{
  "nbformat": 4,
  "nbformat_minor": 0,
  "metadata": {
    "colab": {
      "provenance": [],
      "authorship_tag": "ABX9TyOEDdhmtExf5CV0zZJe6C/l",
      "include_colab_link": true
    },
    "kernelspec": {
      "name": "python3",
      "display_name": "Python 3"
    },
    "language_info": {
      "name": "python"
    }
  },
  "cells": [
    {
      "cell_type": "markdown",
      "metadata": {
        "id": "view-in-github",
        "colab_type": "text"
      },
      "source": [
        "<a href=\"https://colab.research.google.com/github/jaimeclr/3D/blob/main/circulos_en_area_to_stl.ipynb\" target=\"_parent\"><img src=\"https://colab.research.google.com/assets/colab-badge.svg\" alt=\"Open In Colab\"/></a>"
      ]
    },
    {
      "cell_type": "code",
      "source": [
        "import numpy as np\n",
        "import matplotlib.pyplot as plt\n",
        "import math\n",
        "from trimesh.creation import cylinder\n",
        "from trimesh import Trimesh\n",
        "from trimesh.util import concatenate\n",
        "\n",
        "# Parámetros de entrada (definidos en un solo lugar)\n",
        "base = 98    # mm\n",
        "altura = 60  # mm\n",
        "diametro = 21.5 # mm # Diámetro del círculo grande para el cálculo de disposición\n",
        "diametro_pequeno = 11 # mm # Diámetro del círculo pequeño (agujero)\n",
        "espesor = 10 # mm # Grosor en 3D\n",
        "\n",
        "def calcular_disposicion(base, altura, diametro):\n",
        "    \"\"\"\n",
        "    Calcula la disposición hexagonal de círculos sin separación dentro de un rectángulo\n",
        "    \"\"\"\n",
        "    radio = diametro / 2\n",
        "    # The distance between the centers of adjacent circles is the diameter (no separation)\n",
        "    distancia_centros = diametro\n",
        "    paso_x = distancia_centros\n",
        "    paso_y = (math.sqrt(3) / 2) * distancia_centros\n",
        "\n",
        "    centros = []\n",
        "    i = 0\n",
        "    while True:\n",
        "        y = i * paso_y + radio # Start the first row at radio distance from the bottom edge\n",
        "        if y + radio > altura:\n",
        "            break\n",
        "\n",
        "        j = 0\n",
        "        while True:\n",
        "            if i % 2 == 0:\n",
        "                x = j * paso_x + radio # Start the first circle at radio distance from the left edge\n",
        "            else:\n",
        "                x = j * paso_x + paso_x / 2 + radio # Start the shifted row at radio distance plus half step_x\n",
        "\n",
        "            if x + radio > base:\n",
        "                break\n",
        "\n",
        "            # Ensure the entire circle is within the bounds\n",
        "            if x - radio >= 0 and x + radio <= base and y - radio >= 0 and y + radio <= altura:\n",
        "                 centros.append((x, y))\n",
        "\n",
        "            j += 1\n",
        "        i += 1\n",
        "\n",
        "    # Calculate approximate rows and columns for reporting\n",
        "    filas = i\n",
        "    # This is an approximation for reporting, based on the number of circles in the first row\n",
        "    columnas = len([c for c in centros if abs(c[1] - centros[0][1]) < 1e-9])\n",
        "\n",
        "\n",
        "    return centros, filas, columnas\n",
        "\n",
        "# --- Main Execution ---\n",
        "\n",
        "# Calcular disposición de los cilindros\n",
        "disposicion = 'hexagonal sin separación'\n",
        "centros, filas, columnas = calcular_disposicion(base, altura, diametro)\n",
        "\n",
        "print(f\"Resultados para la disposición {disposicion}:\")\n",
        "print(f\"Cantidad de círculos: {len(centros)}\")\n",
        "print(f\"Filas aproximadas: {filas}, Columnas aproximadas: {columnas}\")\n",
        "\n",
        "# Crear la geometría de los cilindros\n",
        "radio_agujero_pequeno = diametro_pequeno / 2\n",
        "cilindros_geometria = []\n",
        "\n",
        "for centro in centros:\n",
        "    x, y = centro\n",
        "    cilindro = cylinder(\n",
        "        radius=radio_agujero_pequeno,\n",
        "        height=espesor,\n",
        "        transform=np.array([\n",
        "            [1, 0, 0, x],\n",
        "            [0, 1, 0, y],\n",
        "            [0, 0, 1, espesor / 2],\n",
        "            [0, 0, 0, 1]\n",
        "        ])\n",
        "    )\n",
        "    cilindros_geometria.append(cilindro)\n",
        "\n",
        "# Combinar las geometrías de los cilindros\n",
        "if cilindros_geometria:\n",
        "    cilindros_combinados = concatenate(cilindros_geometria)\n",
        "\n",
        "    # Exportar a archivo stl\n",
        "    file_path = 'cilindros_combinados.stl'\n",
        "    cilindros_combinados.export(file_path)\n",
        "\n",
        "    print(f\"Combined cylinder geometry successfully exported to {file_path}\")\n",
        "else:\n",
        "    print(\"No cylinders were generated, skipping export.\")\n",
        "\n",
        "\n",
        "# Confirmar la exportación (assuming cylinders were generated and exported)\n",
        "if 'cilindros_combinados' in locals():\n",
        "     print(\"The STL file named 'cilindros_combinados.stl' containing the solid cylinders has been successfully created and saved.\")"
      ],
      "metadata": {
        "colab": {
          "base_uri": "https://localhost:8080/"
        },
        "id": "c9RG6bOYzNAM",
        "outputId": "b9ea44af-b128-44a8-ccb0-e14e1e8acf81"
      },
      "execution_count": null,
      "outputs": [
        {
          "output_type": "stream",
          "name": "stdout",
          "text": [
            "Resultados para la disposición hexagonal sin separación:\n",
            "Cantidad de círculos: 12\n",
            "Filas aproximadas: 3, Columnas aproximadas: 4\n",
            "Combined cylinder geometry successfully exported to cilindros_combinados.stl\n",
            "The STL file named 'cilindros_combinados.stl' containing the solid cylinders has been successfully created and saved.\n"
          ]
        }
      ]
    }
  ]
}